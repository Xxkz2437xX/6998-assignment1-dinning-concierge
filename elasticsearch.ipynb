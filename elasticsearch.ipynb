{
 "cells": [
  {
   "cell_type": "code",
   "execution_count": 4,
   "id": "47ec4434",
   "metadata": {},
   "outputs": [],
   "source": [
    "from __future__ import print_function\n",
    "import csv\n",
    "import pandas as pd\n",
    "import time\n",
    "import json"
   ]
  },
  {
   "cell_type": "code",
   "execution_count": 5,
   "id": "93ce0907",
   "metadata": {},
   "outputs": [],
   "source": [
    "elastic_id = 0\n",
    "count = 0\n",
    "# header: ['Business_ID', 'Name', 'Address', 'Coordinates', 'Num_of_Reviews', 'Rating', 'Zip_Code', 'Cuisine']\n",
    "with open('/Users/xxzkbxx/Downloads/results.csv', encoding='UTF-8') as csvfile:\n",
    "    reader = csv.reader(csvfile)\n",
    "    for column in reader:\n",
    "        if count == 0:\n",
    "            pass\n",
    "        else:\n",
    "            head = {\"index\" : { \"_index\": \"restaurants\",\"_id\" : str(elastic_id)}}\n",
    "            data = {\"RestaurantID\": str(column[0]), \"Cuisine\": str(column[4])}\n",
    "            elastic_id += 1\n",
    "            with open('restaurant1.json', 'a') as outfile:  \n",
    "                json.dump(head, outfile)\n",
    "                outfile.write('\\n')\n",
    "                json.dump(data, outfile)\n",
    "                outfile.write('\\n')\n",
    "        count += 1"
   ]
  },
  {
   "cell_type": "code",
   "execution_count": null,
   "id": "dea5c62b",
   "metadata": {},
   "outputs": [],
   "source": []
  }
 ],
 "metadata": {
  "kernelspec": {
   "display_name": "Python 3 (ipykernel)",
   "language": "python",
   "name": "python3"
  },
  "language_info": {
   "codemirror_mode": {
    "name": "ipython",
    "version": 3
   },
   "file_extension": ".py",
   "mimetype": "text/x-python",
   "name": "python",
   "nbconvert_exporter": "python",
   "pygments_lexer": "ipython3",
   "version": "3.9.13"
  }
 },
 "nbformat": 4,
 "nbformat_minor": 5
}
